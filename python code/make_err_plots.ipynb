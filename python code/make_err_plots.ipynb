{
 "cells": [
  {
   "cell_type": "code",
   "execution_count": null,
   "metadata": {},
   "outputs": [
    {
     "name": "stdout",
     "output_type": "stream",
     "text": [
      "D://emcubes_140910//emcubes_np//aia_emcube_2014-09-10T17_32_02.57Z.npz\n"
     ]
    },
    {
     "name": "stderr",
     "output_type": "stream",
     "text": [
      "c:\\Users\\Lucien\\Documents\\School\\Research\\2023 - DEM Inversion\\dem_venv\\Lib\\site-packages\\erfa\\core.py:154: ErfaWarning: ERFA function \"dtf2d\" yielded 10 of \"dubious year (Note 6)\"\n",
      "  warnings.warn('ERFA function \"{}\" yielded {}'.format(func_name, wmsg),\n",
      "c:\\Users\\Lucien\\Documents\\School\\Research\\2023 - DEM Inversion\\dem_venv\\Lib\\site-packages\\astropy\\units\\quantity.py:666: RuntimeWarning: invalid value encountered in sqrt\n",
      "  result = super().__array_ufunc__(function, method, *arrays, **kwargs)\n"
     ]
    },
    {
     "data": {
      "text/plain": [
       "<matplotlib.image.AxesImage at 0x29968b0e190>"
      ]
     },
     "execution_count": 42,
     "metadata": {},
     "output_type": "execute_result"
    },
    {
     "data": {
      "image/png": "[encoded data removed]",
      "text/plain": [
       "<Figure size 300x150 with 1 Axes>"
      ]
     },
     "metadata": {},
     "output_type": "display_data"
    }
   ],
   "source": [
    "from aiapy import calibrate\n",
    "import numpy as np\n",
    "import astropy.units as u\n",
    "import matplotlib.pyplot as plt\n",
    "import os\n",
    "\n",
    "# relative uncertainty \n",
    "\n",
    "#  aiapy.calibrate.estimate_error(counts: Unit('DN / pix'), channel: Unit('Angstrom'), *, n_sample=1, include_preflight=False, include_eve=False, include_chianti=False, error_table, **kwargs)\n",
    "\n",
    "# Data is DN/sec or DN. check \n",
    "\n",
    "path = \"D://emcubes_140910//emcubes_np//\"\n",
    "\n",
    "filelist = os.listdir(path)\n",
    "file = filelist[20]\n",
    "filename = path + file\n",
    "print(filename)\n",
    "\n",
    "xregion = [350,650]\n",
    "yregion = [380,530]\n",
    "\n",
    "xstart  = xregion[0]\n",
    "xend    = xregion[1]\n",
    "ystart  = yregion[0]\n",
    "yend    = yregion[1]\n",
    "\n",
    "vars = np.load(filename)\n",
    "data = (vars[\"datacube\"])[:, ystart:yend, xstart:xend]\n",
    "\n",
    "\n",
    "d94 = u.Quantity(data[0,:,:],'ct/pix')\n",
    "channel94 = u.Quantity(94,'Angstrom')\n",
    "e94 = aiapy.calibrate.estimate_error(d94,channel94)\n",
    "rat94 = e94 / d94\n",
    "\n",
    "data_width = xend - xstart\n",
    "data_height = yend - ystart\n",
    "height = [data_height, ]\n",
    "width = [data_width, ]\n",
    "\n",
    "px = 1/plt.rcParams['figure.dpi']  # pixel in inches\n",
    "\n",
    "fig, axs = plt.subplots(1, 1,\n",
    "        figsize=(sum(width)*px, sum(height)*px),\n",
    "        gridspec_kw={'height_ratios':height})\n",
    "\n",
    "plt.subplots_adjust(wspace=0, hspace=0, left=0, right=1, bottom=0, top=1)\n",
    "\n",
    "axs.imshow(rat94)"
   ]
  },
  {
   "cell_type": "code",
   "execution_count": null,
   "metadata": {},
   "outputs": [],
   "source": []
  }
 ],
 "metadata": {
  "kernelspec": {
   "display_name": "dem_venv",
   "language": "python",
   "name": "python3"
  },
  "language_info": {
   "codemirror_mode": {
    "name": "ipython",
    "version": 3
   },
   "file_extension": ".py",
   "mimetype": "text/x-python",
   "name": "python",
   "nbconvert_exporter": "python",
   "pygments_lexer": "ipython3",
   "version": "3.11.5"
  }
 },
 "nbformat": 4,
 "nbformat_minor": 2
}
